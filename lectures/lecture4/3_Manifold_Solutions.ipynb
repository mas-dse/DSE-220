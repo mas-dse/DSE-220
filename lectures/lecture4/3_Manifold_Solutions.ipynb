{
 "cells": [
  {
   "cell_type": "markdown",
   "metadata": {},
   "source": [
    "# PRACTICE QUESTION"
   ]
  },
  {
   "cell_type": "markdown",
   "metadata": {},
   "source": [
    "1. Use the MNIST dataset (first 1000 rows) tune the value of n_neighbors parameter for Isomap (n_components=5) with a \n",
    "decision tree classifier.\n",
    "2. For the selected parameter, plot the accuracies on the test data for n_components = [2,5,10,20,50,100]\n",
    "3. Use PCA and plot the accuracies on the test data for n_components = [2,5,10,20,50,100]. \n",
    "4. Compare the results of Q2 and Q3."
   ]
  },
  {
   "cell_type": "code",
   "execution_count": 31,
   "metadata": {
    "collapsed": true
   },
   "outputs": [],
   "source": [
    "from sklearn import datasets\n",
    "from sklearn.model_selection import train_test_split\n",
    "from sklearn.metrics import accuracy_score\n",
    "from sklearn.decomposition import PCA\n",
    "from sklearn.manifold import Isomap, TSNE\n",
    "from sklearn.tree import DecisionTreeClassifier\n",
    "import numpy as np\n",
    "import pandas as pd\n",
    "\n",
    "import matplotlib.pyplot as plt\n",
    "%matplotlib inline"
   ]
  },
  {
   "cell_type": "code",
   "execution_count": 45,
   "metadata": {
    "collapsed": true
   },
   "outputs": [],
   "source": [
    "data = pd.read_csv('mnist_data.csv', names=range(784), header=None)\n",
    "labels = pd.read_csv('mnist_labels.csv', names=['labels'])\n",
    "data = data.loc[:1000]\n",
    "labels = labels.loc[:1000]"
   ]
  },
  {
   "cell_type": "code",
   "execution_count": 46,
   "metadata": {
    "collapsed": true
   },
   "outputs": [],
   "source": [
    "X_train, X_test, y_train, y_test = train_test_split(data, labels, test_size=0.2, random_state=4)\n",
    "X_train, X_val, y_train, y_val = train_test_split(X_train, y_train, test_size=0.2, random_state=5)"
   ]
  },
  {
   "cell_type": "code",
   "execution_count": 53,
   "metadata": {},
   "outputs": [
    {
     "name": "stdout",
     "output_type": "stream",
     "text": [
      "Validation accuracy for neighbors  1  =  0.2\n",
      "Validation accuracy for neighbors  2  =  0.70625\n",
      "Validation accuracy for neighbors  3  =  0.7375\n",
      "Validation accuracy for neighbors  4  =  0.70625\n",
      "Validation accuracy for neighbors  5  =  0.75625\n",
      "Validation accuracy for neighbors  6  =  0.6625\n",
      "Validation accuracy for neighbors  7  =  0.6375\n",
      "Validation accuracy for neighbors  8  =  0.66875\n",
      "Validation accuracy for neighbors  9  =  0.75625\n"
     ]
    }
   ],
   "source": [
    "for k in range(1,10):\n",
    "    \n",
    "    # Data Transformation\n",
    "    isomap = Isomap(n_neighbors=k, n_components=5)\n",
    "    train_data = isomap.fit_transform(X_train)\n",
    "    val_data = isomap.transform(X_val)\n",
    "    \n",
    "    # Model\n",
    "    clf = DecisionTreeClassifier(random_state=0)\n",
    "    clf.fit(train_data, y_train)\n",
    "    pred = clf.predict(val_data)\n",
    "    print ('Validation accuracy for neighbors ', str(k), ' = ', accuracy_score(pred, y_val))"
   ]
  },
  {
   "cell_type": "code",
   "execution_count": 54,
   "metadata": {},
   "outputs": [
    {
     "name": "stdout",
     "output_type": "stream",
     "text": [
      "Test accuracy   =  0.761194029851\n"
     ]
    }
   ],
   "source": [
    "#k=5\n",
    "\n",
    "X_train_val = np.concatenate((X_train, X_val))\n",
    "y_train_val = np.concatenate((y_train, y_val))\n",
    "\n",
    "# Data Transformation\n",
    "isomap = Isomap(n_neighbors=5, n_components=5)\n",
    "train_val_data = isomap.fit_transform(X_train_val)\n",
    "test_data = isomap.transform(X_test)\n",
    "\n",
    "# Model\n",
    "clf = DecisionTreeClassifier()\n",
    "clf.fit(train_val_data, y_train_val)\n",
    "pred = clf.predict(test_data)\n",
    "print ('Test accuracy ', ' = ', accuracy_score(pred, y_test))"
   ]
  },
  {
   "cell_type": "code",
   "execution_count": 55,
   "metadata": {
    "collapsed": true
   },
   "outputs": [],
   "source": [
    "result_isomap=[]\n",
    "for n in [2,5,10,20,50,100]:\n",
    "    \n",
    "    # Data Transformation\n",
    "    isomap = Isomap(n_neighbors=5, n_components=n)\n",
    "    train_data = isomap.fit_transform(X_train)\n",
    "    test_data = isomap.transform(X_test)\n",
    "    \n",
    "    # Model\n",
    "    clf = DecisionTreeClassifier()\n",
    "    clf.fit(train_data, y_train)\n",
    "    pred = clf.predict(test_data)\n",
    "    result_isomap.append(accuracy_score(pred, y_test))"
   ]
  },
  {
   "cell_type": "code",
   "execution_count": 56,
   "metadata": {},
   "outputs": [
    {
     "data": {
      "text/plain": [
       "<matplotlib.legend.Legend at 0x103a98940>"
      ]
     },
     "execution_count": 56,
     "metadata": {},
     "output_type": "execute_result"
    },
    {
     "data": {
      "image/png": "[encoded data removed]",
      "text/plain": [
       "<matplotlib.figure.Figure at 0x11d54f6d8>"
      ]
     },
     "metadata": {},
     "output_type": "display_data"
    }
   ],
   "source": [
    "plt.figure(figsize=(10,7))\n",
    "plt.xlabel('Dimensions', fontsize=15)\n",
    "plt.ylabel('Accuracy', fontsize=15)\n",
    "plt.plot([2,5,10,20,50,100], result_isomap, 'r-', label='Isomap')\n",
    "plt.legend(loc=4, prop={'size':20})"
   ]
  },
  {
   "cell_type": "code",
   "execution_count": 65,
   "metadata": {
    "collapsed": true
   },
   "outputs": [],
   "source": [
    "result_pca=[]\n",
    "\n",
    "# Data Transformation\n",
    "pca = PCA(n_components=100)\n",
    "X_train_new = pd.DataFrame(pca.fit_transform(X_train))\n",
    "X_test_new = pd.DataFrame(pca.transform(X_test))\n",
    "\n",
    "for n in [2,5,10,20,50,100]:\n",
    "    \n",
    "    train_data = X_train_new[X_train_new.columns[:n]]\n",
    "    test_data = X_test_new[X_train_new.columns[:n]]\n",
    "    \n",
    "    #Model\n",
    "    clf = DecisionTreeClassifier()\n",
    "    clf.fit(train_data, y_train)\n",
    "    pred = clf.predict(test_data)\n",
    "    result_pca.append(accuracy_score(pred, y_test))"
   ]
  },
  {
   "cell_type": "code",
   "execution_count": 66,
   "metadata": {},
   "outputs": [
    {
     "data": {
      "text/plain": [
       "<matplotlib.legend.Legend at 0x110e238d0>"
      ]
     },
     "execution_count": 66,
     "metadata": {},
     "output_type": "execute_result"
    },
    {
     "data": {
      "image/png": "[encoded data removed]",
      "text/plain": [
       "<matplotlib.figure.Figure at 0x110336a58>"
      ]
     },
     "metadata": {},
     "output_type": "display_data"
    }
   ],
   "source": [
    "plt.figure(figsize=(10,7))\n",
    "plt.xlabel('Dimensions', fontsize=15)\n",
    "plt.ylabel('Accuracy', fontsize=15)\n",
    "plt.plot([2,5,10,20,50,100], result_isomap, 'r-', label='Isomap')\n",
    "plt.plot([2,5,10,20,50,100], result_pca, 'b-', label='PCA')\n",
    "plt.legend(loc=4, prop={'size':20})"
   ]
  },
  {
   "cell_type": "code",
   "execution_count": null,
   "metadata": {
    "collapsed": true
   },
   "outputs": [],
   "source": []
  }
 ],
 "metadata": {
  "anaconda-cloud": {},
  "kernelspec": {
   "display_name": "Python [py35]",
   "language": "python",
   "name": "Python [py35]"
  },
  "language_info": {
   "codemirror_mode": {
    "name": "ipython",
    "version": 3
   },
   "file_extension": ".py",
   "mimetype": "text/x-python",
   "name": "python",
   "nbconvert_exporter": "python",
   "pygments_lexer": "ipython3",
   "version": "3.5.2"
  }
 },
 "nbformat": 4,
 "nbformat_minor": 1
}
