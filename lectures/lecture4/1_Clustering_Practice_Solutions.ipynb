{
 "cells": [
  {
   "cell_type": "markdown",
   "metadata": {
    "deletable": true,
    "editable": true
   },
   "source": [
    "1. Make a dataset using make_moons with 1500 samples and 5% noise\n",
    "2. Normalize data using Standard_Scaler()\n",
    "2. Run k-means on it and visualize. Suggest a good value for 'k' in range 1-25 "
   ]
  },
  {
   "cell_type": "code",
   "execution_count": null,
   "metadata": {
    "collapsed": false,
    "deletable": true,
    "editable": true
   },
   "outputs": [],
   "source": [
    "import numpy as np\n",
    "import matplotlib.pyplot as plt\n",
    "\n",
    "from sklearn import cluster, datasets\n",
    "from sklearn.neighbors import kneighbors_graph\n",
    "from sklearn.preprocessing import StandardScaler"
   ]
  },
  {
   "cell_type": "code",
   "execution_count": null,
   "metadata": {
    "collapsed": false,
    "deletable": true,
    "editable": true
   },
   "outputs": [],
   "source": [
    "np.random.seed(0)\n",
    "\n",
    "n_samples = 1500\n",
    "noisy_moons = datasets.make_moons(n_samples=n_samples, noise=.05)\n",
    "\n",
    "colors = ['green','red','blue']\n",
    "\n",
    "X, y = noisy_moons\n",
    "X = StandardScaler().fit_transform(X)"
   ]
  },
  {
   "cell_type": "code",
   "execution_count": null,
   "metadata": {
    "collapsed": false,
    "deletable": true,
    "editable": true
   },
   "outputs": [],
   "source": [
    "algorithm = cluster.KMeans(n_clusters = 2)\n",
    "algorithm.fit(X)\n",
    "\n",
    "y_pred = algorithm.labels_.astype(np.int)\n",
    "\n",
    "centers = algorithm.cluster_centers_\n",
    "center_colors = colors[:len(centers)]\n",
    "plt.scatter(centers[:, 0], centers[:, 1], s=100, c=center_colors)\n",
    "\n",
    "for i in range(len(X)):\n",
    "    plt.scatter(X[i][0], X[i][1], s=30, c=colors[y_pred[i]])\n",
    "\n",
    "plt.xlim(-2, 2)\n",
    "plt.ylim(-2, 2)\n",
    "plt.xticks(())\n",
    "plt.yticks(())    \n",
    "plt.show()"
   ]
  },
  {
   "cell_type": "code",
   "execution_count": null,
   "metadata": {
    "collapsed": false,
    "deletable": true,
    "editable": true
   },
   "outputs": [],
   "source": [
    "algorithm = cluster.KMeans(n_clusters = 3)\n",
    "algorithm.fit(X)\n",
    "\n",
    "y_pred = algorithm.labels_.astype(np.int)\n",
    "\n",
    "centers = algorithm.cluster_centers_\n",
    "center_colors = colors[:len(centers)]\n",
    "plt.scatter(centers[:, 0], centers[:, 1], s=100, c=center_colors)\n",
    "\n",
    "for i in range(len(X)):\n",
    "    plt.scatter(X[i][0], X[i][1], s=30, c=colors[y_pred[i]])\n",
    "\n",
    "plt.xlim(-2, 2)\n",
    "plt.ylim(-2, 2)\n",
    "plt.xticks(())\n",
    "plt.yticks(())    \n",
    "plt.show()"
   ]
  },
  {
   "cell_type": "code",
   "execution_count": null,
   "metadata": {
    "collapsed": false,
    "deletable": true,
    "editable": true
   },
   "outputs": [],
   "source": [
    "plt.clf()\n",
    "n_list = np.arange(1,30,1)\n",
    "inertia = []\n",
    "for n in n_list: \n",
    "    k_means = cluster.KMeans(n_clusters=n) \n",
    "    k_means.fit(X)\n",
    "    inertia.append(k_means.inertia_)\n",
    "plt.plot(n_list, inertia)\n",
    "plt.xlabel('Number of clusters')\n",
    "plt.ylabel('Inertia')\n",
    "plt.show()"
   ]
  },
  {
   "cell_type": "code",
   "execution_count": null,
   "metadata": {
    "collapsed": true,
    "deletable": true,
    "editable": true
   },
   "outputs": [],
   "source": []
  }
 ],
 "metadata": {
  "anaconda-cloud": {},
  "kernelspec": {
   "display_name": "Python [default]",
   "language": "python",
   "name": "python3"
  },
  "language_info": {
   "codemirror_mode": {
    "name": "ipython",
    "version": 3
   },
   "file_extension": ".py",
   "mimetype": "text/x-python",
   "name": "python",
   "nbconvert_exporter": "python",
   "pygments_lexer": "ipython3",
   "version": "3.5.3"
  }
 },
 "nbformat": 4,
 "nbformat_minor": 2
}
